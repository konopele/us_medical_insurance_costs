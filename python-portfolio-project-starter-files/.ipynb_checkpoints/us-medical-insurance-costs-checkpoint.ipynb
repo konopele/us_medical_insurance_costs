{
 "cells": [
  {
   "cell_type": "markdown",
   "metadata": {},
   "source": [
    "# U.S. Medical Insurance Costs"
   ]
  },
  {
   "cell_type": "markdown",
   "metadata": {},
   "source": [
    "### Project goals\n",
    "* Find out the average age of patients\n",
    "* Investigate the geographical belongings of patients\n",
    "* Find out the percentage of smokers\n",
    "* Categorise patients by BMI"
   ]
  },
  {
   "cell_type": "code",
   "execution_count": 39,
   "metadata": {},
   "outputs": [],
   "source": [
    "# For a given value of individuals calculates the percentage with respect to total individuals and complemetary\n",
    "# percentage with n decimal\n",
    "def percent(value, total, n):\n",
    "    basic = value/total*100\n",
    "    compl = (total - value)/total*100\n",
    "    return format(basic,'.'+str(n)+'f'), format(compl, '.'+str(n)+'f')\n",
    "\n",
    "# Average value with n decimals\n",
    "def average(list, n):\n",
    "    total = 0\n",
    "    for element in list:\n",
    "        total += float(element)\n",
    "    return format(total/len(list),'.'+str(n)+'f')\n",
    "\n",
    "def min_max(list):\n",
    "    sorted_list = sorted(list)\n",
    "    minimum = sorted_list[0]\n",
    "    maximum = sorted_list[-1]\n",
    "    return minimum, maximum"
   ]
  },
  {
   "cell_type": "markdown",
   "metadata": {},
   "source": [
    "## Looking over the dataset"
   ]
  },
  {
   "cell_type": "code",
   "execution_count": 2,
   "metadata": {},
   "outputs": [
    {
     "name": "stdout",
     "output_type": "stream",
     "text": [
      "age,sex,bmi,children,smoker,region,charges\n",
      "\n",
      "19,female,27.9,0,yes,southwest,16884.924\n",
      "\n"
     ]
    }
   ],
   "source": [
    "import csv\n",
    "\n",
    "with open('insurance.csv') as insurance_csv:\n",
    "    insurance = csv.DictReader(insurance_csv)\n",
    "    print(insurance_csv.readline())\n",
    "    print(insurance_csv.readline())"
   ]
  },
  {
   "cell_type": "markdown",
   "metadata": {},
   "source": [
    "## Importing the data"
   ]
  },
  {
   "cell_type": "code",
   "execution_count": 54,
   "metadata": {},
   "outputs": [],
   "source": [
    "class Insurance:\n",
    "    def __init__(self):\n",
    "        self.age = []\n",
    "        self.sex = []\n",
    "        self.bmi = []\n",
    "        self.children = []\n",
    "        self.smoker = []\n",
    "        self.region = []\n",
    "        self.charges = []\n",
    "        with open('insurance.csv') as insurance_csv:\n",
    "            insurance_dict = csv.DictReader(insurance_csv)\n",
    "            for row in insurance_dict:\n",
    "                self.age.append(row['age']) \n",
    "                self.sex.append(row['sex'])\n",
    "                self.bmi.append(row['bmi'])\n",
    "                self.children.append(row['children'])\n",
    "                self.smoker.append(row['smoker'])\n",
    "                self.region.append(row['region'])\n",
    "                self.charges.append(row['charges'])\n",
    "                \n",
    "    def total(self):\n",
    "        return len(self.age)\n",
    "                \n",
    "    def ages(self):\n",
    "        total = 0\n",
    "        for element in self.age:\n",
    "            total += int(element)\n",
    "        average = total/self.total()\n",
    "        sorted_age = sorted(self.age)\n",
    "        print('The average age of the patients is '+format(average,'.1f')+' years.')\n",
    "        print('The youngest patient is {} years old, the oldest - {}.'.format(sorted_age[0], sorted_age[-1]))\n",
    "        \n",
    "    def sex_data(self):\n",
    "        man = self.sex.count('male')\n",
    "        male, female = percent(man, self.total(), 1)\n",
    "        print('There are {} patients recorded.'.format(self.total()))\n",
    "        print('{}% of them are men, {}% are women.'.format(male,female))\n",
    "        \n",
    "    def smokers(self):\n",
    "        all_smokers = self.smoker.count('yes')\n",
    "        percent_smokers, non_smokers = percent(all_smokers, self.total(), 1)\n",
    "        print('There are {} smokers or {}% of all the patients.'.format(all_smokers,percent_smokers))\n",
    "        smoker_sex = list(zip(self.sex,self.smoker))\n",
    "        smokers_man = 0\n",
    "        for patient in smoker_sex:\n",
    "            if patient[0] == 'male' and patient[1] == 'yes':\n",
    "                smokers_man += 1\n",
    "        smoker_male, smoker_female = percent(smokers_man,all_smokers,1)\n",
    "        print('{}% of all smokers are men, {}% are women.'.format(smoker_male,smoker_female))\n",
    "        \n",
    "    def smokers_cost(self):\n",
    "        smoker_list = []\n",
    "        non_smoker_list = []\n",
    "        smoker_cost = list(zip(self.smoker,self.charges))\n",
    "        for entry in smoker_cost:\n",
    "            if entry[0] == 'yes':\n",
    "                smoker_list.append(entry[1])\n",
    "            else:\n",
    "                non_smoker_list.append(entry[1])\n",
    "        av_sm = average(smoker_list, 2)\n",
    "        av_non = average(non_smoker_list, 2)\n",
    "        up = format(float(av_sm)/float(av_non)*100,'.1f')\n",
    "        print('The average price of insurance for non-smoker is $'+av_non+', for smoker - $'+av_sm+' ('+up+'% more).')\n",
    "        \n",
    "    def regions(self):\n",
    "        region_list = []\n",
    "        for area in self.region:\n",
    "            if not area in region_list:\n",
    "                region_list.append(area)\n",
    "        region_dict = {}\n",
    "        for area in region_list:\n",
    "            region_dict[area] = format(self.region.count(area)/self.total()*100,'.1f')\n",
    "            print('{}% of patients are from {}.'.format(region_dict[area], area))\n",
    "            \n",
    "    def bmi_categories(self):\n",
    "        # <18.5 underweight\n",
    "        # 18.5 - 25 normal weight\n",
    "        # 25 - 30 overweight\n",
    "        # >30 obese\n",
    "        bmi_scale = {'underweight': 0,\n",
    "                    'normal weight': 18.5,\n",
    "                    'overweight': 25,\n",
    "                    'obese': 30}\n",
    "        bmi_patients = {}\n",
    "        for weight in bmi_scale.keys():\n",
    "            bmi_patients[weight] = 0\n",
    "        for num in self.bmi:\n",
    "            if float(num) < bmi_scale['underweight']:\n",
    "                bmi_patients['underweight'] += 1\n",
    "            elif float(num) >= bmi_scale['underweight'] and float(num) < bmi_scale['normal weight']:\n",
    "                bmi_patients['normal weight'] += 1\n",
    "            elif float(num) > bmi_scale['obese']:\n",
    "                bmi_patients['obese'] += 1\n",
    "            else:\n",
    "                bmi_patients['overweight'] += 1\n",
    "        for key, value in bmi_patients.items():\n",
    "            if value != 0:\n",
    "                print('{}% of patients are {}.'.format(format(value/self.total()*100,'.1f'),key))\n",
    "            else:\n",
    "                print('None of the patients are '+key)\n",
    "        \n",
    "    def average_bmi(self):\n",
    "        print('The average BMI of the patients is {}.'.format(average(self.bmi, 1)))\n",
    "        \n",
    "    def children_analysis(self):\n",
    "        sorted_children = sorted(self.children)\n",
    "        max_children = sorted_children[-1]\n",
    "        print('All the patients have no more than {} children'.format(max_children))\n",
    "        num_children = {}\n",
    "        for i in range(int(max_children) + 1):\n",
    "            num_children[i] = []\n",
    "            children_age = list(zip(self.children,self.age))\n",
    "            for age in children_age:\n",
    "                if int(age[0]) == i:\n",
    "                    num_children[i].append(age[1])\n",
    "        for key, value in num_children.items():\n",
    "            min_age, max_age = min_max(value)\n",
    "            average_age = average(value, 1)\n",
    "            perc_age, exc = percent(len(value), self.total(), 1)\n",
    "            if key == 0:\n",
    "                print('There are {} patients with no children (or {}% of all patients).'.format(len(value),perc_age))\n",
    "            elif key == 1:\n",
    "                print('There are {} patients with {} child (or {}% of all patients).'.format(len(value),key,perc_age))\n",
    "            else:\n",
    "                print('There are {} patients with {} children (or {}% of all patients).'.format(len(value),key,perc_age))\n",
    "            print('Their average age is {} years; maximum - {}, minimum - {}.'.format(average_age,max_age,min_age))\n",
    "    \n",
    "    def print_record(self,i):\n",
    "        print(self.age[i],self.sex[i],self.bmi[i],self.children[i],self.smoker[i],self.region[i],self.charges[i])\n",
    "    \n",
    "    def five_kids(self):\n",
    "        for i in range(self.total()):\n",
    "            if self.children[i] == '5':\n",
    "                self.print_record(i)\n",
    "\n",
    "insurances = Insurance()"
   ]
  },
  {
   "cell_type": "markdown",
   "metadata": {},
   "source": [
    "## Gender"
   ]
  },
  {
   "cell_type": "code",
   "execution_count": 4,
   "metadata": {},
   "outputs": [
    {
     "name": "stdout",
     "output_type": "stream",
     "text": [
      "There are 1338 patients recorded.\n",
      "50.5% of them are men, 49.5% are women.\n"
     ]
    }
   ],
   "source": [
    "insurances.sex_data()"
   ]
  },
  {
   "cell_type": "markdown",
   "metadata": {},
   "source": [
    "## Age"
   ]
  },
  {
   "cell_type": "code",
   "execution_count": 5,
   "metadata": {},
   "outputs": [
    {
     "name": "stdout",
     "output_type": "stream",
     "text": [
      "The average age of the patients is 39.2 years.\n",
      "The youngest patient is 18 years old, the oldest - 64.\n"
     ]
    }
   ],
   "source": [
    "insurances.ages()"
   ]
  },
  {
   "cell_type": "markdown",
   "metadata": {},
   "source": [
    "## Smoking vs insurance cost"
   ]
  },
  {
   "cell_type": "code",
   "execution_count": 6,
   "metadata": {},
   "outputs": [
    {
     "name": "stdout",
     "output_type": "stream",
     "text": [
      "There are 274 smokers or 20.5% of all the patients.\n",
      "58.0% of all smokers are men, 42.0% are women.\n",
      "The average price of insurance for non-smoker is $8434.27, for smoker - $32050.23 (380.0% more).\n"
     ]
    }
   ],
   "source": [
    "insurances.smokers()\n",
    "insurances.smokers_cost()"
   ]
  },
  {
   "cell_type": "markdown",
   "metadata": {},
   "source": [
    "## Geography"
   ]
  },
  {
   "cell_type": "code",
   "execution_count": 7,
   "metadata": {},
   "outputs": [
    {
     "name": "stdout",
     "output_type": "stream",
     "text": [
      "24.3% of patients are from southwest.\n",
      "27.2% of patients are from southeast.\n",
      "24.3% of patients are from northwest.\n",
      "24.2% of patients are from northeast.\n"
     ]
    }
   ],
   "source": [
    "insurances.regions()"
   ]
  },
  {
   "cell_type": "markdown",
   "metadata": {},
   "source": [
    "## Weight"
   ]
  },
  {
   "cell_type": "code",
   "execution_count": 8,
   "metadata": {},
   "outputs": [
    {
     "name": "stdout",
     "output_type": "stream",
     "text": [
      "The average BMI of the patients is 30.7.\n",
      "None of the patients are underweight\n",
      "1.5% of patients are normal weight.\n",
      "45.8% of patients are overweight.\n",
      "52.7% of patients are obese.\n"
     ]
    }
   ],
   "source": [
    "insurances.average_bmi()\n",
    "insurances.bmi_categories()"
   ]
  },
  {
   "cell_type": "markdown",
   "metadata": {},
   "source": [
    "## Children"
   ]
  },
  {
   "cell_type": "code",
   "execution_count": 51,
   "metadata": {},
   "outputs": [
    {
     "name": "stdout",
     "output_type": "stream",
     "text": [
      "All the patients have no more than 5 children\n",
      "There are 574 patinents with no children (or 42.9% of all patients).\n",
      "Their average age is 38.4 years; maximum - 64, minimum - 18.\n",
      "There are 324 patinents with 1 child (or 24.2% of all patients).\n",
      "Their average age is 39.5 years; maximum - 64, minimum - 18.\n",
      "There are 240 patinents with 2 children (or 17.9% of all patients).\n",
      "Their average age is 39.4 years; maximum - 64, minimum - 18.\n",
      "There are 157 patinents with 3 children (or 11.7% of all patients).\n",
      "Their average age is 41.6 years; maximum - 64, minimum - 18.\n",
      "There are 25 patinents with 4 children (or 1.9% of all patients).\n",
      "Their average age is 39.0 years; maximum - 61, minimum - 18.\n",
      "There are 18 patinents with 5 children (or 1.3% of all patients).\n",
      "Their average age is 35.6 years; maximum - 52, minimum - 19.\n"
     ]
    }
   ],
   "source": [
    "insurances.children_analysis()"
   ]
  }
 ],
 "metadata": {
  "kernelspec": {
   "display_name": "Python 3",
   "language": "python",
   "name": "python3"
  },
  "language_info": {
   "codemirror_mode": {
    "name": "ipython",
    "version": 3
   },
   "file_extension": ".py",
   "mimetype": "text/x-python",
   "name": "python",
   "nbconvert_exporter": "python",
   "pygments_lexer": "ipython3",
   "version": "3.8.5"
  }
 },
 "nbformat": 4,
 "nbformat_minor": 4
}
