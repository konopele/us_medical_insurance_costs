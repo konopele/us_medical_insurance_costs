{
 "cells": [
  {
   "cell_type": "markdown",
   "metadata": {},
   "source": [
    "# U.S. Medical Insurance Costs"
   ]
  },
  {
   "cell_type": "markdown",
   "metadata": {},
   "source": [
    "### Project goals\n",
    "* Find out the average age of patients\n",
    "* Investigate the geographical belongings of patients\n",
    "* Find out the percentage of smokers\n",
    "* Categorise patients by BMI"
   ]
  },
  {
   "cell_type": "code",
   "execution_count": 83,
   "metadata": {},
   "outputs": [],
   "source": [
    "# For a given value of individuals calculates the percentage with respect to total individuals and complemetary\n",
    "# percentage with n decimal\n",
    "def percent(value, total, n):\n",
    "    basic = value/total*100\n",
    "    compl = (total - value)/total*100\n",
    "    return format(basic,'.'+str(n)+'f'), format(compl, '.'+str(n)+'f')\n",
    "\n",
    "# Average value with n decimals\n",
    "def average(list, n):\n",
    "    total = 0\n",
    "    for element in list:\n",
    "        total += float(element)\n",
    "    return format(total/len(list),'.'+str(n)+'f')"
   ]
  },
  {
   "cell_type": "markdown",
   "metadata": {},
   "source": [
    "## Looking over the dataset"
   ]
  },
  {
   "cell_type": "code",
   "execution_count": 16,
   "metadata": {},
   "outputs": [
    {
     "name": "stdout",
     "output_type": "stream",
     "text": [
      "age,sex,bmi,children,smoker,region,charges\n",
      "\n",
      "19,female,27.9,0,yes,southwest,16884.924\n",
      "\n"
     ]
    }
   ],
   "source": [
    "import csv\n",
    "\n",
    "with open('insurance.csv') as insurance_csv:\n",
    "    insurance = csv.DictReader(insurance_csv)\n",
    "    print(insurance_csv.readline())\n",
    "    print(insurance_csv.readline())"
   ]
  },
  {
   "cell_type": "markdown",
   "metadata": {},
   "source": [
    "## Importing the data"
   ]
  },
  {
   "cell_type": "code",
   "execution_count": 94,
   "metadata": {},
   "outputs": [],
   "source": [
    "class Insurance:\n",
    "    def __init__(self):\n",
    "        self.age = []\n",
    "        self.sex = []\n",
    "        self.bmi = []\n",
    "        self.children = []\n",
    "        self.smoker = []\n",
    "        self.region = []\n",
    "        self.charges = []\n",
    "        with open('insurance.csv') as insurance_csv:\n",
    "            insurance_dict = csv.DictReader(insurance_csv)\n",
    "            for row in insurance_dict:\n",
    "                self.age.append(row['age']) \n",
    "                self.sex.append(row['sex'])\n",
    "                self.bmi.append(row['bmi'])\n",
    "                self.children.append(row['children'])\n",
    "                self.smoker.append(row['smoker'])\n",
    "                self.region.append(row['region'])\n",
    "                self.charges.append(row['charges'])\n",
    "                \n",
    "    def total(self):\n",
    "        return len(self.age)\n",
    "                \n",
    "    def ages(self):\n",
    "        total = 0\n",
    "        for element in self.age:\n",
    "            total += int(element)\n",
    "        average = total/self.total()\n",
    "        sorted_age = sorted(self.age)\n",
    "        print('The average age of the patients is '+format(average,'.1f')+' years.')\n",
    "        print('The youngest patient is {} years old, the oldest - {}.'.format(sorted_age[0], sorted_age[-1]))\n",
    "        \n",
    "    def sex_data(self):\n",
    "        man = self.sex.count('male')\n",
    "        male, female = percent(man, self.total(), 1)\n",
    "        print('There are {} patients recorded.'.format(self.total()))\n",
    "        print('{}% of them are men, {}% are women.'.format(male,female))\n",
    "        \n",
    "    def smokers(self):\n",
    "        all_smokers = self.smoker.count('yes')\n",
    "        percent_smokers, non_smokers = percent(all_smokers, self.total(), 1)\n",
    "        print('There are {} smokers or {}% of all the patients.'.format(all_smokers,percent_smokers))\n",
    "        smoker_sex = list(zip(self.sex,self.smoker))\n",
    "        smokers_man = 0\n",
    "        for patient in smoker_sex:\n",
    "            if patient[0] == 'male' and patient[1] == 'yes':\n",
    "                smokers_man += 1\n",
    "        smoker_male, smoker_female = percent(smokers_man,all_smokers,1)\n",
    "        print('{}% of all smokers are men, {}% are women.'.format(smoker_male,smoker_female))\n",
    "        \n",
    "    def smokers_cost(self):\n",
    "        smoker_list = []\n",
    "        non_smoker_list = []\n",
    "        smoker_cost = list(zip(self.smoker,self.charges))\n",
    "        for entry in smoker_cost:\n",
    "            if entry[0] == 'yes':\n",
    "                smoker_list.append(entry[1])\n",
    "            else:\n",
    "                non_smoker_list.append(entry[1])\n",
    "        av_sm = average(smoker_list, 2)\n",
    "        av_non = average(non_smoker_list, 2)\n",
    "        up = format(float(av_sm)/float(av_non)*100,'.1f')\n",
    "        print('The average price of insurance for non-smoker is $'+av_non+', for smoker - $'+av_sm+' ('+up+'% more).')\n",
    "        \n",
    "    def regions(self):\n",
    "        region_list = []\n",
    "        for area in self.region:\n",
    "            if not area in region_list:\n",
    "                region_list.append(area)\n",
    "\n",
    "insurances = Insurance()"
   ]
  },
  {
   "cell_type": "markdown",
   "metadata": {},
   "source": [
    "## Gender"
   ]
  },
  {
   "cell_type": "code",
   "execution_count": 53,
   "metadata": {},
   "outputs": [
    {
     "name": "stdout",
     "output_type": "stream",
     "text": [
      "There are 1338 patients recorded.\n",
      "50.5% of them are men, 49.5% are women.\n"
     ]
    }
   ],
   "source": [
    "insurances.sex_data()"
   ]
  },
  {
   "cell_type": "markdown",
   "metadata": {},
   "source": [
    "## Age"
   ]
  },
  {
   "cell_type": "code",
   "execution_count": 54,
   "metadata": {},
   "outputs": [
    {
     "name": "stdout",
     "output_type": "stream",
     "text": [
      "The average age of the patients is 39.2 years.\n",
      "The youngest patient is 18 years old, the oldest - 64.\n"
     ]
    }
   ],
   "source": [
    "insurances.ages()"
   ]
  },
  {
   "cell_type": "markdown",
   "metadata": {},
   "source": [
    "## Smoking vs insurance cost"
   ]
  },
  {
   "cell_type": "code",
   "execution_count": 95,
   "metadata": {},
   "outputs": [
    {
     "name": "stdout",
     "output_type": "stream",
     "text": [
      "There are 274 smokers or 20.5% of all the patients.\n",
      "58.0% of all smokers are men, 42.0% are women.\n",
      "The average price of insurance for non-smoker is $8434.27, for smoker - $32050.23 (380.0% more).\n"
     ]
    }
   ],
   "source": [
    "insurances.smokers()\n",
    "insurances.smokers_cost()"
   ]
  },
  {
   "cell_type": "markdown",
   "metadata": {},
   "source": [
    "## Geography"
   ]
  },
  {
   "cell_type": "code",
   "execution_count": null,
   "metadata": {},
   "outputs": [],
   "source": []
  }
 ],
 "metadata": {
  "kernelspec": {
   "display_name": "Python 3",
   "language": "python",
   "name": "python3"
  },
  "language_info": {
   "codemirror_mode": {
    "name": "ipython",
    "version": 3
   },
   "file_extension": ".py",
   "mimetype": "text/x-python",
   "name": "python",
   "nbconvert_exporter": "python",
   "pygments_lexer": "ipython3",
   "version": "3.8.5"
  }
 },
 "nbformat": 4,
 "nbformat_minor": 4
}
