{
 "cells": [
  {
   "cell_type": "markdown",
   "metadata": {},
   "source": [
    "# U.S. Medical Insurance Costs"
   ]
  },
  {
   "cell_type": "markdown",
   "metadata": {},
   "source": [
    "### Project goals\n",
    "* Find the average age of patients\n",
    "* Investigate the geographical belongings of patients\n",
    "* Find out the percentage of smokers\n",
    "* Categorise patients by BMI and demonstrate percentages"
   ]
  },
  {
   "cell_type": "code",
   "execution_count": 57,
   "metadata": {},
   "outputs": [],
   "source": [
    "import csv\n",
    "\n",
    "class Insurance_data:\n",
    "    def __init__(self):\n",
    "        with open('insurance.csv') as insurance_csv:\n",
    "            self = csv.DictReader(insurance_csv)"
   ]
  },
  {
   "cell_type": "code",
   "execution_count": 59,
   "metadata": {},
   "outputs": [
    {
     "ename": "TypeError",
     "evalue": "__init__() should return None, not 'DictReader'",
     "output_type": "error",
     "traceback": [
      "\u001b[1;31m---------------------------------------------------------------------------\u001b[0m",
      "\u001b[1;31mTypeError\u001b[0m                                 Traceback (most recent call last)",
      "\u001b[1;32m<ipython-input-59-ae81a0c4d0b7>\u001b[0m in \u001b[0;36m<module>\u001b[1;34m\u001b[0m\n\u001b[1;32m----> 1\u001b[1;33m \u001b[0minsurances\u001b[0m \u001b[1;33m=\u001b[0m \u001b[0mInsurance_data\u001b[0m\u001b[1;33m(\u001b[0m\u001b[1;33m)\u001b[0m\u001b[1;33m\u001b[0m\u001b[1;33m\u001b[0m\u001b[0m\n\u001b[0m\u001b[0;32m      2\u001b[0m \u001b[0mprint\u001b[0m\u001b[1;33m(\u001b[0m\u001b[0mtype\u001b[0m\u001b[1;33m(\u001b[0m\u001b[0minsurances\u001b[0m\u001b[1;33m)\u001b[0m\u001b[1;33m)\u001b[0m\u001b[1;33m\u001b[0m\u001b[1;33m\u001b[0m\u001b[0m\n",
      "\u001b[1;31mTypeError\u001b[0m: __init__() should return None, not 'DictReader'"
     ]
    }
   ],
   "source": [
    "insurances = Insurance_data()\n",
    "print(type(insurances))"
   ]
  },
  {
   "cell_type": "code",
   "execution_count": 42,
   "metadata": {},
   "outputs": [],
   "source": [
    "# For a given value of individuals calculates the percentage with respect to total individuals and complemetary\n",
    "# percentage\n",
    "def percent(value, total):\n",
    "    basic = value/total*100\n",
    "    compl = (value - 100)/total*100\n",
    "    return basic, compl"
   ]
  },
  {
   "cell_type": "markdown",
   "metadata": {},
   "source": [
    "## Looking over the dataset"
   ]
  },
  {
   "cell_type": "code",
   "execution_count": 53,
   "metadata": {},
   "outputs": [
    {
     "name": "stdout",
     "output_type": "stream",
     "text": [
      "age,sex,bmi,children,smoker,region,charges\n",
      "\n",
      "19,female,27.9,0,yes,southwest,16884.924\n",
      "\n",
      "<class 'str'>\n",
      "<class 'csv.DictReader'>\n"
     ]
    }
   ],
   "source": [
    "import csv\n",
    "\n",
    "with open('insurance.csv') as insurance_csv:\n",
    "    insurance = csv.DictReader(insurance_csv)\n",
    "    print(insurance_csv.readline())\n",
    "    print(insurance_csv.readline())\n",
    "    print(type(insurance_csv.read()))\n",
    "print(type(insurance))"
   ]
  },
  {
   "cell_type": "markdown",
   "metadata": {},
   "source": [
    "## Entries in dataset"
   ]
  },
  {
   "cell_type": "code",
   "execution_count": 54,
   "metadata": {},
   "outputs": [
    {
     "name": "stdout",
     "output_type": "stream",
     "text": [
      "There are 1338 entries in dataset\n",
      "<class 'csv.DictReader'>\n"
     ]
    }
   ],
   "source": [
    "with open('insurance.csv') as insurance_csv:\n",
    "    insurance = csv.DictReader(insurance_csv)\n",
    "    counter = 0\n",
    "    for row in insurance:\n",
    "        counter += 1\n",
    "    print('There are {} entries in dataset'.format(counter))\n",
    "print(type(insurance))"
   ]
  },
  {
   "cell_type": "markdown",
   "metadata": {},
   "source": [
    "## Average age of patients"
   ]
  },
  {
   "cell_type": "code",
   "execution_count": 14,
   "metadata": {},
   "outputs": [
    {
     "name": "stdout",
     "output_type": "stream",
     "text": [
      "The average age of the patients is 39.2 years\n"
     ]
    }
   ],
   "source": [
    "from decimal import Decimal\n",
    "\n",
    "with open('insurance.csv') as insurance_csv:\n",
    "    insurance = csv.DictReader(insurance_csv)\n",
    "    total_age = 0\n",
    "    counter = 0\n",
    "    for row in insurance:\n",
    "        total_age += float(row['age'])\n",
    "        counter += 1\n",
    "    average = format(total_age / counter, '.1f')\n",
    "    print('The average age of the patients is {} years'.format(average))"
   ]
  },
  {
   "cell_type": "markdown",
   "metadata": {},
   "source": [
    "## Percentage of smokers"
   ]
  },
  {
   "cell_type": "code",
   "execution_count": 45,
   "metadata": {},
   "outputs": [
    {
     "name": "stdout",
     "output_type": "stream",
     "text": [
      "20.5% of patients are smokers.\n"
     ]
    }
   ],
   "source": [
    "with open('insurance.csv') as insurance_csv:\n",
    "    insurance = csv.DictReader(insurance_csv)\n",
    "    count = 0\n",
    "    smokers_count = 0\n",
    "    smoking_men = 0\n",
    "    for row in insurance:\n",
    "        if row['smoker'] == 'yes':\n",
    "            smokers_count += 1\n",
    "            if row['sex'] == 'male':\n",
    "                smoking_men += 1\n",
    "        count += 1\n",
    "    print(format(smokers_count/count*100,'.1f') + '% of patients are smokers.')\n",
    "    #print('{}% of them are men and {}')"
   ]
  },
  {
   "cell_type": "markdown",
   "metadata": {},
   "source": [
    "## Gender composition"
   ]
  },
  {
   "cell_type": "code",
   "execution_count": 46,
   "metadata": {},
   "outputs": [
    {
     "name": "stdout",
     "output_type": "stream",
     "text": [
      "There are 50.5% of men and 49.5% of women.\n"
     ]
    }
   ],
   "source": [
    "with open('insurance.csv') as insurance_csv:\n",
    "    insurance = csv.DictReader(insurance_csv)\n",
    "    count = 0\n",
    "    male_count = 0\n",
    "    for row in insurance:\n",
    "        if row['sex'] == 'male':\n",
    "            male_count += 1\n",
    "        count += 1\n",
    "    male_percent = format(male_count/count*100,'.1f')\n",
    "    female_percent = format((count - male_count)/count*100,'.1f')\n",
    "    print('There are {}% of men and {}% of women.'.format(male_percent,female_percent))"
   ]
  },
  {
   "cell_type": "markdown",
   "metadata": {},
   "source": []
  }
 ],
 "metadata": {
  "kernelspec": {
   "display_name": "Python 3",
   "language": "python",
   "name": "python3"
  },
  "language_info": {
   "codemirror_mode": {
    "name": "ipython",
    "version": 3
   },
   "file_extension": ".py",
   "mimetype": "text/x-python",
   "name": "python",
   "nbconvert_exporter": "python",
   "pygments_lexer": "ipython3",
   "version": "3.8.5"
  }
 },
 "nbformat": 4,
 "nbformat_minor": 4
}
