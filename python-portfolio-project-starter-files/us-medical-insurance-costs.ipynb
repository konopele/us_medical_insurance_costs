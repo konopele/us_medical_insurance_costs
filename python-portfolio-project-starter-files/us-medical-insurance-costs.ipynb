{
 "cells": [
  {
   "cell_type": "markdown",
   "metadata": {},
   "source": [
    "# U.S. Medical Insurance Costs"
   ]
  },
  {
   "cell_type": "markdown",
   "metadata": {},
   "source": [
    "### Project goals\n",
    "* Find the average age of patients\n",
    "* Investigate the geographical belongings of patients\n",
    "* Find out the percentage of smokers\n",
    "* Categorise patients by BMI and demonstrate percentages"
   ]
  },
  {
   "cell_type": "code",
   "execution_count": 32,
   "metadata": {},
   "outputs": [
    {
     "name": "stdout",
     "output_type": "stream",
     "text": [
      "33.496 66.504\n"
     ]
    }
   ],
   "source": [
    "# For a given value of individuals calculates the percentage with respect to total individuals and complemetary\n",
    "# percentage with n decimal\n",
    "def percent(value, total, n):\n",
    "    basic = value/total*100\n",
    "    compl = (total - value)/total*100\n",
    "    return format(basic,'.'+str(n)+'f'), format(compl, '.'+str(n)+'f')"
   ]
  },
  {
   "cell_type": "markdown",
   "metadata": {},
   "source": [
    "## Looking over the dataset"
   ]
  },
  {
   "cell_type": "code",
   "execution_count": 16,
   "metadata": {},
   "outputs": [
    {
     "name": "stdout",
     "output_type": "stream",
     "text": [
      "age,sex,bmi,children,smoker,region,charges\n",
      "\n",
      "19,female,27.9,0,yes,southwest,16884.924\n",
      "\n"
     ]
    }
   ],
   "source": [
    "import csv\n",
    "\n",
    "with open('insurance.csv') as insurance_csv:\n",
    "    insurance = csv.DictReader(insurance_csv)\n",
    "    print(insurance_csv.readline())\n",
    "    print(insurance_csv.readline())"
   ]
  },
  {
   "cell_type": "markdown",
   "metadata": {},
   "source": [
    "## Importing the data"
   ]
  },
  {
   "cell_type": "code",
   "execution_count": 43,
   "metadata": {},
   "outputs": [
    {
     "name": "stdout",
     "output_type": "stream",
     "text": [
      "18 64\n",
      "39.2\n"
     ]
    }
   ],
   "source": [
    "class Insurance:\n",
    "    def __init__(self):\n",
    "        self.age = []\n",
    "        self.sex = []\n",
    "        self.bmi = []\n",
    "        self.children = []\n",
    "        self.region = []\n",
    "        self.charges = []\n",
    "        with open('insurance.csv') as insurance_csv:\n",
    "            insurance_dict = csv.DictReader(insurance_csv)\n",
    "            for row in insurance_dict:\n",
    "                self.age.append(row['age']) \n",
    "                self.sex.append(row['sex'])\n",
    "                self.bmi.append(row['bmi'])\n",
    "                self.children.append(row['children'])\n",
    "                self.region.append(row['region'])\n",
    "                self.charges.append(row['charges'])\n",
    "                \n",
    "    def ages(self):\n",
    "        total = 0\n",
    "        for element in self.age:\n",
    "            total += int(element)\n",
    "        average = total/len(self.age)\n",
    "        sorted_age = sorted(self.age)\n",
    "        print(sorted_age[0], sorted_age[-1])\n",
    "        return format(average,'.1f')\n",
    "        \n",
    "insurances = Insurance()\n",
    "print(insurances.ages())"
   ]
  },
  {
   "cell_type": "markdown",
   "metadata": {},
   "source": [
    "## Entries in dataset"
   ]
  },
  {
   "cell_type": "code",
   "execution_count": 69,
   "metadata": {},
   "outputs": [
    {
     "ename": "ValueError",
     "evalue": "I/O operation on closed file.",
     "output_type": "error",
     "traceback": [
      "\u001b[1;31m---------------------------------------------------------------------------\u001b[0m",
      "\u001b[1;31mValueError\u001b[0m                                Traceback (most recent call last)",
      "\u001b[1;32m<ipython-input-69-b8b8876d6373>\u001b[0m in \u001b[0;36m<module>\u001b[1;34m\u001b[0m\n\u001b[0;32m      1\u001b[0m \u001b[0minsurance\u001b[0m \u001b[1;33m=\u001b[0m \u001b[0mget_the_data\u001b[0m\u001b[1;33m(\u001b[0m\u001b[1;33m)\u001b[0m\u001b[1;33m\u001b[0m\u001b[1;33m\u001b[0m\u001b[0m\n\u001b[0;32m      2\u001b[0m \u001b[0mcounter\u001b[0m \u001b[1;33m=\u001b[0m \u001b[1;36m0\u001b[0m\u001b[1;33m\u001b[0m\u001b[1;33m\u001b[0m\u001b[0m\n\u001b[1;32m----> 3\u001b[1;33m \u001b[1;32mfor\u001b[0m \u001b[0mrow\u001b[0m \u001b[1;32min\u001b[0m \u001b[0minsurance\u001b[0m\u001b[1;33m:\u001b[0m\u001b[1;33m\u001b[0m\u001b[1;33m\u001b[0m\u001b[0m\n\u001b[0m\u001b[0;32m      4\u001b[0m     \u001b[0mcounter\u001b[0m \u001b[1;33m+=\u001b[0m \u001b[1;36m1\u001b[0m\u001b[1;33m\u001b[0m\u001b[1;33m\u001b[0m\u001b[0m\n\u001b[0;32m      5\u001b[0m \u001b[0mprint\u001b[0m\u001b[1;33m(\u001b[0m\u001b[1;34m'There are {} entries in dataset'\u001b[0m\u001b[1;33m.\u001b[0m\u001b[0mformat\u001b[0m\u001b[1;33m(\u001b[0m\u001b[0mcounter\u001b[0m\u001b[1;33m)\u001b[0m\u001b[1;33m)\u001b[0m\u001b[1;33m\u001b[0m\u001b[1;33m\u001b[0m\u001b[0m\n",
      "\u001b[1;32m~\\miniconda3\\lib\\csv.py\u001b[0m in \u001b[0;36m__next__\u001b[1;34m(self)\u001b[0m\n\u001b[0;32m    108\u001b[0m         \u001b[1;32mif\u001b[0m \u001b[0mself\u001b[0m\u001b[1;33m.\u001b[0m\u001b[0mline_num\u001b[0m \u001b[1;33m==\u001b[0m \u001b[1;36m0\u001b[0m\u001b[1;33m:\u001b[0m\u001b[1;33m\u001b[0m\u001b[1;33m\u001b[0m\u001b[0m\n\u001b[0;32m    109\u001b[0m             \u001b[1;31m# Used only for its side effect.\u001b[0m\u001b[1;33m\u001b[0m\u001b[1;33m\u001b[0m\u001b[1;33m\u001b[0m\u001b[0m\n\u001b[1;32m--> 110\u001b[1;33m             \u001b[0mself\u001b[0m\u001b[1;33m.\u001b[0m\u001b[0mfieldnames\u001b[0m\u001b[1;33m\u001b[0m\u001b[1;33m\u001b[0m\u001b[0m\n\u001b[0m\u001b[0;32m    111\u001b[0m         \u001b[0mrow\u001b[0m \u001b[1;33m=\u001b[0m \u001b[0mnext\u001b[0m\u001b[1;33m(\u001b[0m\u001b[0mself\u001b[0m\u001b[1;33m.\u001b[0m\u001b[0mreader\u001b[0m\u001b[1;33m)\u001b[0m\u001b[1;33m\u001b[0m\u001b[1;33m\u001b[0m\u001b[0m\n\u001b[0;32m    112\u001b[0m         \u001b[0mself\u001b[0m\u001b[1;33m.\u001b[0m\u001b[0mline_num\u001b[0m \u001b[1;33m=\u001b[0m \u001b[0mself\u001b[0m\u001b[1;33m.\u001b[0m\u001b[0mreader\u001b[0m\u001b[1;33m.\u001b[0m\u001b[0mline_num\u001b[0m\u001b[1;33m\u001b[0m\u001b[1;33m\u001b[0m\u001b[0m\n",
      "\u001b[1;32m~\\miniconda3\\lib\\csv.py\u001b[0m in \u001b[0;36mfieldnames\u001b[1;34m(self)\u001b[0m\n\u001b[0;32m     95\u001b[0m         \u001b[1;32mif\u001b[0m \u001b[0mself\u001b[0m\u001b[1;33m.\u001b[0m\u001b[0m_fieldnames\u001b[0m \u001b[1;32mis\u001b[0m \u001b[1;32mNone\u001b[0m\u001b[1;33m:\u001b[0m\u001b[1;33m\u001b[0m\u001b[1;33m\u001b[0m\u001b[0m\n\u001b[0;32m     96\u001b[0m             \u001b[1;32mtry\u001b[0m\u001b[1;33m:\u001b[0m\u001b[1;33m\u001b[0m\u001b[1;33m\u001b[0m\u001b[0m\n\u001b[1;32m---> 97\u001b[1;33m                 \u001b[0mself\u001b[0m\u001b[1;33m.\u001b[0m\u001b[0m_fieldnames\u001b[0m \u001b[1;33m=\u001b[0m \u001b[0mnext\u001b[0m\u001b[1;33m(\u001b[0m\u001b[0mself\u001b[0m\u001b[1;33m.\u001b[0m\u001b[0mreader\u001b[0m\u001b[1;33m)\u001b[0m\u001b[1;33m\u001b[0m\u001b[1;33m\u001b[0m\u001b[0m\n\u001b[0m\u001b[0;32m     98\u001b[0m             \u001b[1;32mexcept\u001b[0m \u001b[0mStopIteration\u001b[0m\u001b[1;33m:\u001b[0m\u001b[1;33m\u001b[0m\u001b[1;33m\u001b[0m\u001b[0m\n\u001b[0;32m     99\u001b[0m                 \u001b[1;32mpass\u001b[0m\u001b[1;33m\u001b[0m\u001b[1;33m\u001b[0m\u001b[0m\n",
      "\u001b[1;31mValueError\u001b[0m: I/O operation on closed file."
     ]
    }
   ],
   "source": [
    "insurance = get_the_data()\n",
    "counter = 0\n",
    "for row in insurance:\n",
    "    counter += 1\n",
    "print('There are {} entries in dataset'.format(counter))\n",
    "print(type(insurance))"
   ]
  },
  {
   "cell_type": "markdown",
   "metadata": {},
   "source": [
    "## Average age of patients"
   ]
  },
  {
   "cell_type": "code",
   "execution_count": 14,
   "metadata": {},
   "outputs": [
    {
     "name": "stdout",
     "output_type": "stream",
     "text": [
      "The average age of the patients is 39.2 years\n"
     ]
    }
   ],
   "source": [
    "from decimal import Decimal\n",
    "\n",
    "with open('insurance.csv') as insurance_csv:\n",
    "    insurance = csv.DictReader(insurance_csv)\n",
    "    total_age = 0\n",
    "    counter = 0\n",
    "    for row in insurance:\n",
    "        total_age += float(row['age'])\n",
    "        counter += 1\n",
    "    average = format(total_age / counter, '.1f')\n",
    "    print('The average age of the patients is {} years'.format(average))"
   ]
  },
  {
   "cell_type": "markdown",
   "metadata": {},
   "source": [
    "## Percentage of smokers"
   ]
  },
  {
   "cell_type": "code",
   "execution_count": 45,
   "metadata": {},
   "outputs": [
    {
     "name": "stdout",
     "output_type": "stream",
     "text": [
      "20.5% of patients are smokers.\n"
     ]
    }
   ],
   "source": [
    "with open('insurance.csv') as insurance_csv:\n",
    "    insurance = csv.DictReader(insurance_csv)\n",
    "    count = 0\n",
    "    smokers_count = 0\n",
    "    smoking_men = 0\n",
    "    for row in insurance:\n",
    "        if row['smoker'] == 'yes':\n",
    "            smokers_count += 1\n",
    "            if row['sex'] == 'male':\n",
    "                smoking_men += 1\n",
    "        count += 1\n",
    "    print(format(smokers_count/count*100,'.1f') + '% of patients are smokers.')\n",
    "    #print('{}% of them are men and {}')"
   ]
  },
  {
   "cell_type": "markdown",
   "metadata": {},
   "source": [
    "## Gender composition"
   ]
  },
  {
   "cell_type": "code",
   "execution_count": 46,
   "metadata": {},
   "outputs": [
    {
     "name": "stdout",
     "output_type": "stream",
     "text": [
      "There are 50.5% of men and 49.5% of women.\n"
     ]
    }
   ],
   "source": [
    "with open('insurance.csv') as insurance_csv:\n",
    "    insurance = csv.DictReader(insurance_csv)\n",
    "    count = 0\n",
    "    male_count = 0\n",
    "    for row in insurance:\n",
    "        if row['sex'] == 'male':\n",
    "            male_count += 1\n",
    "        count += 1\n",
    "    male_percent = format(male_count/count*100,'.1f')\n",
    "    female_percent = format((count - male_count)/count*100,'.1f')\n",
    "    print('There are {}% of men and {}% of women.'.format(male_percent,female_percent))"
   ]
  },
  {
   "cell_type": "markdown",
   "metadata": {},
   "source": []
  }
 ],
 "metadata": {
  "kernelspec": {
   "display_name": "Python 3",
   "language": "python",
   "name": "python3"
  },
  "language_info": {
   "codemirror_mode": {
    "name": "ipython",
    "version": 3
   },
   "file_extension": ".py",
   "mimetype": "text/x-python",
   "name": "python",
   "nbconvert_exporter": "python",
   "pygments_lexer": "ipython3",
   "version": "3.8.5"
  }
 },
 "nbformat": 4,
 "nbformat_minor": 4
}
